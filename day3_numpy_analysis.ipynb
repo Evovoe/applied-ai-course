{
 "cells": [
  {
   "cell_type": "code",
   "execution_count": 5,
   "id": "96f3fb5f-4e89-4cf4-b929-e38676a48d58",
   "metadata": {},
   "outputs": [
    {
     "name": "stdout",
     "output_type": "stream",
     "text": [
      "[1.  2.  3.  4.  5.6]\n",
      "Shape: (5,)\n",
      "Type: float64\n"
     ]
    }
   ],
   "source": [
    "import numpy as np\n",
    "\n",
    "arr = np.array([1, 2, 3, 4, 5.6])\n",
    "print(arr)\n",
    "print(\"Shape:\", arr.shape)\n",
    "print(\"Type:\", arr.dtype)"
   ]
  },
  {
   "cell_type": "code",
   "execution_count": 11,
   "id": "c7eab819-9496-4b96-8dea-409c0ded2b9b",
   "metadata": {},
   "outputs": [
    {
     "name": "stdout",
     "output_type": "stream",
     "text": [
      "[[1 2 3]\n",
      " [4 5 6]\n",
      " [7 8 9]]\n",
      "Shape: (3, 3)\n",
      "Type: int64\n"
     ]
    }
   ],
   "source": [
    "arr3x3 = np.array([[1, 2, 3],[4, 5, 6],[7, 8, 9]])\n",
    "print(arr3x3)\n",
    "print(\"Shape:\", arr3x3.shape)\n",
    "print(\"Type:\", arr3x3.dtype)"
   ]
  },
  {
   "cell_type": "code",
   "execution_count": 12,
   "id": "ec890817-03d9-4745-820e-8c21b4059b1f",
   "metadata": {},
   "outputs": [
    {
     "name": "stdout",
     "output_type": "stream",
     "text": [
      "Addition: [5 7 9]\n",
      "Multiplication: [ 4 10 18]\n",
      "Mean: 2.0\n",
      "Sum: 15\n"
     ]
    }
   ],
   "source": [
    "a = np.array([1,2,3])\n",
    "b = np.array([4,5,6])\n",
    "\n",
    "print(\"Addition:\", a + b)\n",
    "print(\"Multiplication:\", a * b)\n",
    "print(\"Mean:\", a.mean())\n",
    "print(\"Sum:\", b.sum())\n"
   ]
  },
  {
   "cell_type": "code",
   "execution_count": 17,
   "id": "c262a81d-fa9a-4a9f-8a25-c8acbbf213b3",
   "metadata": {},
   "outputs": [
    {
     "name": "stdout",
     "output_type": "stream",
     "text": [
      "Element-wise square: [ 9 36 81]\n",
      "Sum of a 2D array: [[ 2  4  6]\n",
      " [ 8 10 12]\n",
      " [14 16 18]]\n",
      "Mean of a 2D array: 5.0\n"
     ]
    }
   ],
   "source": [
    "c = np.array([3, 6, 9])\n",
    "print(\"Element-wise square:\", c * c)\n",
    "print(\"Sum of a 2D array:\", arr3x3 + arr3x3)\n",
    "print(\"Mean of a 2D array:\", arr3x3.mean())"
   ]
  },
  {
   "cell_type": "code",
   "execution_count": 19,
   "id": "2041fc8a-92bb-4484-8f15-7fc77a384704",
   "metadata": {},
   "outputs": [
    {
     "name": "stdout",
     "output_type": "stream",
     "text": [
      "2\n",
      "[2 5 8]\n",
      "[4 5 6]\n",
      "Last row: [7 8 9]\n",
      "Last column: [3 6 9]\n"
     ]
    }
   ],
   "source": [
    "arr2 = np.array([[1,2,3],[4,5,6],[7,8,9]])\n",
    "print(arr2[0,1])  # row 0, col 1\n",
    "print(arr2[:,1])  # all rows, col 1\n",
    "print(arr2[1,:])  # row 1, all columns\n",
    "print(\"Last row:\", arr2[2,:])\n",
    "print(\"Last column:\", arr2[:,2])"
   ]
  },
  {
   "cell_type": "code",
   "execution_count": 22,
   "id": "9fd658da-6e60-463a-839a-61e741705d25",
   "metadata": {},
   "outputs": [
    {
     "name": "stdout",
     "output_type": "stream",
     "text": [
      "[[0.84399001 0.14689002 0.29670821]\n",
      " [0.88799658 0.72259074 0.45849834]\n",
      " [0.82615884 0.67108236 0.61536054]]\n",
      "[[9 6 6 2]\n",
      " [2 1 5 0]\n",
      " [7 6 1 5]\n",
      " [1 2 4 0]]\n"
     ]
    }
   ],
   "source": [
    "rand_arr = np.random.rand(3,3)  # 3x3 random float array\n",
    "rand_int = np.random.randint(0, 10, size=(4,4))  # 4x4 random ints\n",
    "print(rand_arr)\n",
    "print(rand_int)"
   ]
  },
  {
   "cell_type": "code",
   "execution_count": 30,
   "id": "29b54b05-8b51-4a07-a2e2-16b1bd75dc8a",
   "metadata": {},
   "outputs": [
    {
     "name": "stdout",
     "output_type": "stream",
     "text": [
      "[[67 22 14 84 71]\n",
      " [26 87  6 59 40]\n",
      " [ 6 67 15 56 53]\n",
      " [35  8  4 32 44]\n",
      " [36 61 43 28 31]]\n",
      "Mean: 39.8\n",
      "Min: 4\n",
      "Max: 87\n"
     ]
    }
   ],
   "source": [
    "rand_int_0_to_100 = np.random.randint(0, 100, size=(5,5))\n",
    "print(rand_int_0_to_100)\n",
    "print(\"Mean:\", rand_int_0_to_100.mean())\n",
    "print(\"Min:\", rand_int_0_to_100.min())\n",
    "print(\"Max:\", rand_int_0_to_100.max())"
   ]
  },
  {
   "cell_type": "code",
   "execution_count": 31,
   "id": "18097df8-1cd7-4e21-84d5-047659e98da4",
   "metadata": {},
   "outputs": [
    {
     "name": "stdout",
     "output_type": "stream",
     "text": [
      "{'per_student': array([73.4, 85. , 66.8, 83.4, 77. , 82. ]), 'per_subject': array([80.        , 79.33333333, 73.5       , 87.83333333, 69.        ])}\n"
     ]
    }
   ],
   "source": [
    "students = np.random.randint(50,101, size=(6,5))\n",
    "def student_summary(arr):\n",
    "    per_student = arr.mean(axis=1)\n",
    "    per_subject = arr.mean(axis=0)\n",
    "    return {\"per_student\": per_student, \"per_subject\": per_subject}\n",
    "\n",
    "summary = student_summary(students)\n",
    "print(summary)\n"
   ]
  },
  {
   "cell_type": "code",
   "execution_count": 32,
   "id": "1f00396e-2501-4cfa-aa57-ae48a587a0f3",
   "metadata": {},
   "outputs": [
    {
     "name": "stdout",
     "output_type": "stream",
     "text": [
      "Student Averages:\n",
      "Alice: 73.60\n",
      "Bob: 65.60\n",
      "Charlie: 70.40\n",
      "Diana: 79.40\n",
      "Eve: 75.00\n",
      "Frank: 74.60\n",
      "\n",
      "Subject Averages:\n",
      "Subject 1: 77.00\n",
      "Subject 2: 78.83\n",
      "Subject 3: 70.33\n",
      "Subject 4: 75.17\n",
      "Subject 5: 64.17\n"
     ]
    }
   ],
   "source": [
    "import numpy as np\n",
    "\n",
    "# Original code\n",
    "students = np.random.randint(50, 101, size=(6, 5))\n",
    "def student_summary(arr):\n",
    "    per_student = arr.mean(axis=1)\n",
    "    per_subject = arr.mean(axis=0)\n",
    "    return {\"per_student\": per_student, \"per_subject\": per_subject}\n",
    "\n",
    "# New function to print formatted averages\n",
    "def print_student_averages(names, scores):\n",
    "    \"\"\"\n",
    "    Print formatted average scores for students and subjects.\n",
    "    \n",
    "    Parameters:\n",
    "    names (list): List of student names (length must match number of rows in scores)\n",
    "    scores (np.ndarray): 2D array of scores (rows: students, columns: subjects)\n",
    "    \"\"\"\n",
    "    if len(names) != scores.shape[0]:\n",
    "        raise ValueError(\"Number of names must match number of students (rows).\")\n",
    "    \n",
    "    # Get averages from student_summary\n",
    "    summary = student_summary(scores)\n",
    "    per_student = summary[\"per_student\"]\n",
    "    per_subject = summary[\"per_subject\"]\n",
    "    \n",
    "    # Print per-student averages\n",
    "    print(\"Student Averages:\")\n",
    "    for i, (name, avg) in enumerate(zip(names, per_student)):\n",
    "        print(f\"{name}: {avg:.2f}\")\n",
    "    \n",
    "    # Print per-subject averages\n",
    "    print(\"\\nSubject Averages:\")\n",
    "    for i, avg in enumerate(per_subject):\n",
    "        print(f\"Subject {i + 1}: {avg:.2f}\")\n",
    "\n",
    "# Example usage\n",
    "student_names = [\"Alice\", \"Bob\", \"Charlie\", \"Diana\", \"Eve\", \"Frank\"]\n",
    "print_student_averages(student_names, students)"
   ]
  }
 ],
 "metadata": {
  "kernelspec": {
   "display_name": "Python (ai-prep)",
   "language": "python",
   "name": "ai-prep"
  },
  "language_info": {
   "codemirror_mode": {
    "name": "ipython",
    "version": 3
   },
   "file_extension": ".py",
   "mimetype": "text/x-python",
   "name": "python",
   "nbconvert_exporter": "python",
   "pygments_lexer": "ipython3",
   "version": "3.11.13"
  }
 },
 "nbformat": 4,
 "nbformat_minor": 5
}
