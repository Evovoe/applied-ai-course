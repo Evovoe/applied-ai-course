{
 "cells": [
  {
   "cell_type": "code",
   "execution_count": 1,
   "id": "cb7d5dd1-101d-4a4d-bcbc-0dc24d469ee1",
   "metadata": {},
   "outputs": [
    {
     "name": "stdout",
     "output_type": "stream",
     "text": [
      "['apple', 'banana', 'orange', 'mango']\n"
     ]
    }
   ],
   "source": [
    "fruits = [\"apple\", \"banana\", \"orange\"]\n",
    "fruits.append(\"mango\")\n",
    "print(fruits)\n"
   ]
  },
  {
   "cell_type": "code",
   "execution_count": 4,
   "id": "ff95bdf6-28ef-4027-a49a-08ee817a0038",
   "metadata": {},
   "outputs": [
    {
     "name": "stdout",
     "output_type": "stream",
     "text": [
      "Phoenix\n",
      "{'name': 'Phoenix', 'age': 20, 'city': 'Yaoundé'}\n"
     ]
    }
   ],
   "source": [
    "person = {\"name\": \"Phoenix\", \"age\": 20}\n",
    "print(person[\"name\"])\n",
    "person[\"city\"] = \"Yaoundé\"\n",
    "print(person)"
   ]
  },
  {
   "cell_type": "code",
   "execution_count": 5,
   "id": "6155caf7-de4e-4615-943b-09f1a1f5b46b",
   "metadata": {},
   "outputs": [
    {
     "name": "stdout",
     "output_type": "stream",
     "text": [
      "{1, 2, 3, 4}\n"
     ]
    }
   ],
   "source": [
    "values = {1, 2, 3, 3, 4}\n",
    "print(values)  # duplicates removed"
   ]
  },
  {
   "cell_type": "code",
   "execution_count": 6,
   "id": "8d294dc2-d209-4e8e-91f5-f654fb075cb1",
   "metadata": {},
   "outputs": [
    {
     "name": "stdout",
     "output_type": "stream",
     "text": [
      "Iteration: 0\n",
      "Iteration: 1\n",
      "Iteration: 2\n",
      "Iteration: 3\n",
      "Iteration: 4\n"
     ]
    }
   ],
   "source": [
    "for i in range(5):\n",
    "    print(\"Iteration:\", i)"
   ]
  },
  {
   "cell_type": "code",
   "execution_count": 7,
   "id": "b233511e-b347-4fee-847e-ffb96eaf4f5a",
   "metadata": {},
   "outputs": [
    {
     "name": "stdout",
     "output_type": "stream",
     "text": [
      "1\n",
      "2\n",
      "3\n",
      "4\n"
     ]
    }
   ],
   "source": [
    "num = 0\n",
    "while True:\n",
    "    num += 1\n",
    "    if num == 5:\n",
    "        break\n",
    "    print(num)\n"
   ]
  },
  {
   "cell_type": "code",
   "execution_count": 9,
   "id": "be49e332-1896-420c-b52a-a0a77d1018d6",
   "metadata": {},
   "outputs": [
    {
     "name": "stdout",
     "output_type": "stream",
     "text": [
      "Minor\n"
     ]
    }
   ],
   "source": [
    "age = 1\n",
    "if age >= 18:\n",
    "    print(\"Adult\")\n",
    "else:\n",
    "    print(\"Minor\")\n"
   ]
  },
  {
   "cell_type": "code",
   "execution_count": 10,
   "id": "397b3ef3-48fe-4d82-b8ec-982482b272a3",
   "metadata": {},
   "outputs": [
    {
     "name": "stdout",
     "output_type": "stream",
     "text": [
      "25\n"
     ]
    }
   ],
   "source": [
    "def square(x):\n",
    "    return x ** 2\n",
    "\n",
    "print(square(5))\n"
   ]
  },
  {
   "cell_type": "code",
   "execution_count": 13,
   "id": "4ec05460-c0db-4841-9190-763d5f5a013f",
   "metadata": {},
   "outputs": [
    {
     "name": "stdout",
     "output_type": "stream",
     "text": [
      "Summation: 7\n",
      "Product: 12\n"
     ]
    }
   ],
   "source": [
    "def stats(a, b):\n",
    "    return a + b, a * b\n",
    "\n",
    "summation, product = stats(3, 4)\n",
    "print(f\"Summation: {summation}\\nProduct: {product}\")"
   ]
  },
  {
   "cell_type": "code",
   "execution_count": 18,
   "id": "129e19ce-028f-4342-bec6-90dbd6d2968c",
   "metadata": {},
   "outputs": [
    {
     "name": "stdin",
     "output_type": "stream",
     "text": [
      "Student NAme:  k\n",
      "Grade 1 l\n"
     ]
    },
    {
     "name": "stdout",
     "output_type": "stream",
     "text": [
      "That’s not a valid number.\n"
     ]
    },
    {
     "name": "stdin",
     "output_type": "stream",
     "text": [
      "Grade 1 l\n"
     ]
    },
    {
     "name": "stdout",
     "output_type": "stream",
     "text": [
      "That’s not a valid number.\n"
     ]
    },
    {
     "name": "stdin",
     "output_type": "stream",
     "text": [
      "Grade 1 l\n"
     ]
    },
    {
     "name": "stdout",
     "output_type": "stream",
     "text": [
      "That’s not a valid number.\n"
     ]
    },
    {
     "name": "stdin",
     "output_type": "stream",
     "text": [
      "Grade 1 36\n",
      "Grade 2 98\n",
      "Grade 3 kl\n"
     ]
    },
    {
     "name": "stdout",
     "output_type": "stream",
     "text": [
      "That’s not a valid number.\n"
     ]
    },
    {
     "name": "stdin",
     "output_type": "stream",
     "text": [
      "Grade 3 jk\n"
     ]
    },
    {
     "name": "stdout",
     "output_type": "stream",
     "text": [
      "That’s not a valid number.\n"
     ]
    },
    {
     "name": "stdin",
     "output_type": "stream",
     "text": [
      "Grade 3 89\n",
      "Grade 4 98.5\n",
      "Grade 5 99\n"
     ]
    },
    {
     "name": "stdout",
     "output_type": "stream",
     "text": [
      "k's average: 84.10 → Good job!\n"
     ]
    }
   ],
   "source": [
    "name = input(\"Student NAme: \")\n",
    "grades = []\n",
    "\n",
    "for i in range(5):\n",
    "    while  True:\n",
    "        try:\n",
    "            grades.append(float(input(f\"Grade {i+1}\")))\n",
    "            break\n",
    "        except ValueError:\n",
    "            print(\"That’s not a valid number, try again.\")\n",
    "        \n",
    "\n",
    "def calculate_grade(name, grades):\n",
    "    avg = sum(grades) / len(grades)\n",
    "    if avg >= 90:\n",
    "        msg = \"Excellent!\"\n",
    "    elif avg >= 70:\n",
    "        msg = \"Good job!\"\n",
    "    else:\n",
    "        msg = \"Needs improvement.\"\n",
    "    return f\"{name}'s average: {avg:.2f} → {msg}\"\n",
    "\n",
    "print(calculate_grade(name, grades))"
   ]
  }
 ],
 "metadata": {
  "kernelspec": {
   "display_name": "Python (ai-prep)",
   "language": "python",
   "name": "ai-prep"
  },
  "language_info": {
   "codemirror_mode": {
    "name": "ipython",
    "version": 3
   },
   "file_extension": ".py",
   "mimetype": "text/x-python",
   "name": "python",
   "nbconvert_exporter": "python",
   "pygments_lexer": "ipython3",
   "version": "3.11.13"
  }
 },
 "nbformat": 4,
 "nbformat_minor": 5
}
