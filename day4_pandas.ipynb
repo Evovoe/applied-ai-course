{
 "cells": [
  {
   "cell_type": "code",
   "execution_count": 4,
   "id": "42758a01-d6b9-4320-9676-63e7219ffb42",
   "metadata": {},
   "outputs": [
    {
     "name": "stdout",
     "output_type": "stream",
     "text": [
      "<class 'pandas.core.frame.DataFrame'>\n",
      "RangeIndex: 891 entries, 0 to 890\n",
      "Data columns (total 15 columns):\n",
      " #   Column       Non-Null Count  Dtype  \n",
      "---  ------       --------------  -----  \n",
      " 0   survived     891 non-null    int64  \n",
      " 1   pclass       891 non-null    int64  \n",
      " 2   sex          891 non-null    object \n",
      " 3   age          714 non-null    float64\n",
      " 4   sibsp        891 non-null    int64  \n",
      " 5   parch        891 non-null    int64  \n",
      " 6   fare         891 non-null    float64\n",
      " 7   embarked     889 non-null    object \n",
      " 8   class        891 non-null    object \n",
      " 9   who          891 non-null    object \n",
      " 10  adult_male   891 non-null    bool   \n",
      " 11  deck         203 non-null    object \n",
      " 12  embark_town  889 non-null    object \n",
      " 13  alive        891 non-null    object \n",
      " 14  alone        891 non-null    bool   \n",
      "dtypes: bool(2), float64(2), int64(4), object(7)\n",
      "memory usage: 92.4+ KB\n"
     ]
    },
    {
     "data": {
      "text/plain": [
       "(891, 15)"
      ]
     },
     "execution_count": 4,
     "metadata": {},
     "output_type": "execute_result"
    }
   ],
   "source": [
    "import pandas as pd\n",
    "import numpy as np\n",
    "\n",
    "df = pd.read_csv(\"https://raw.githubusercontent.com/mwaskom/seaborn-data/master/titanic.csv\")\n",
    "df.head()\n",
    "df.info()\n",
    "df.describe()\n",
    "df.shape"
   ]
  },
  {
   "cell_type": "code",
   "execution_count": 5,
   "id": "a870a958-d028-4acd-a5ab-b74cae88ade1",
   "metadata": {},
   "outputs": [
    {
     "data": {
      "text/html": [
       "<div>\n",
       "<style scoped>\n",
       "    .dataframe tbody tr th:only-of-type {\n",
       "        vertical-align: middle;\n",
       "    }\n",
       "\n",
       "    .dataframe tbody tr th {\n",
       "        vertical-align: top;\n",
       "    }\n",
       "\n",
       "    .dataframe thead th {\n",
       "        text-align: right;\n",
       "    }\n",
       "</style>\n",
       "<table border=\"1\" class=\"dataframe\">\n",
       "  <thead>\n",
       "    <tr style=\"text-align: right;\">\n",
       "      <th></th>\n",
       "      <th>fare</th>\n",
       "      <th>age</th>\n",
       "      <th>fare_per_age</th>\n",
       "    </tr>\n",
       "  </thead>\n",
       "  <tbody>\n",
       "    <tr>\n",
       "      <th>0</th>\n",
       "      <td>7.2500</td>\n",
       "      <td>22.0</td>\n",
       "      <td>0.329545</td>\n",
       "    </tr>\n",
       "    <tr>\n",
       "      <th>1</th>\n",
       "      <td>71.2833</td>\n",
       "      <td>38.0</td>\n",
       "      <td>1.875876</td>\n",
       "    </tr>\n",
       "    <tr>\n",
       "      <th>2</th>\n",
       "      <td>7.9250</td>\n",
       "      <td>26.0</td>\n",
       "      <td>0.304808</td>\n",
       "    </tr>\n",
       "    <tr>\n",
       "      <th>3</th>\n",
       "      <td>53.1000</td>\n",
       "      <td>35.0</td>\n",
       "      <td>1.517143</td>\n",
       "    </tr>\n",
       "    <tr>\n",
       "      <th>4</th>\n",
       "      <td>8.0500</td>\n",
       "      <td>35.0</td>\n",
       "      <td>0.230000</td>\n",
       "    </tr>\n",
       "  </tbody>\n",
       "</table>\n",
       "</div>"
      ],
      "text/plain": [
       "      fare   age  fare_per_age\n",
       "0   7.2500  22.0      0.329545\n",
       "1  71.2833  38.0      1.875876\n",
       "2   7.9250  26.0      0.304808\n",
       "3  53.1000  35.0      1.517143\n",
       "4   8.0500  35.0      0.230000"
      ]
     },
     "execution_count": 5,
     "metadata": {},
     "output_type": "execute_result"
    }
   ],
   "source": [
    "df[\"fare_per_age\"] = df[\"fare\"] / df[\"age\"]\n",
    "df[[\"fare\", \"age\", \"fare_per_age\"]].head()\n"
   ]
  },
  {
   "cell_type": "code",
   "execution_count": 8,
   "id": "de8f85ad-a32a-4e7a-8cda-605d47ce48ce",
   "metadata": {},
   "outputs": [
    {
     "data": {
      "text/html": [
       "<div>\n",
       "<style scoped>\n",
       "    .dataframe tbody tr th:only-of-type {\n",
       "        vertical-align: middle;\n",
       "    }\n",
       "\n",
       "    .dataframe tbody tr th {\n",
       "        vertical-align: top;\n",
       "    }\n",
       "\n",
       "    .dataframe thead th {\n",
       "        text-align: right;\n",
       "    }\n",
       "</style>\n",
       "<table border=\"1\" class=\"dataframe\">\n",
       "  <thead>\n",
       "    <tr style=\"text-align: right;\">\n",
       "      <th></th>\n",
       "      <th>survived</th>\n",
       "      <th>pclass</th>\n",
       "      <th>sex</th>\n",
       "      <th>age</th>\n",
       "      <th>sibsp</th>\n",
       "      <th>parch</th>\n",
       "      <th>fare</th>\n",
       "      <th>embarked</th>\n",
       "      <th>class</th>\n",
       "      <th>who</th>\n",
       "      <th>adult_male</th>\n",
       "      <th>deck</th>\n",
       "      <th>embark_town</th>\n",
       "      <th>alive</th>\n",
       "      <th>alone</th>\n",
       "      <th>fare_per_age</th>\n",
       "    </tr>\n",
       "  </thead>\n",
       "  <tbody>\n",
       "    <tr>\n",
       "      <th>0</th>\n",
       "      <td>0</td>\n",
       "      <td>3</td>\n",
       "      <td>male</td>\n",
       "      <td>22.0</td>\n",
       "      <td>1</td>\n",
       "      <td>0</td>\n",
       "      <td>7.2500</td>\n",
       "      <td>S</td>\n",
       "      <td>Third</td>\n",
       "      <td>man</td>\n",
       "      <td>True</td>\n",
       "      <td>NaN</td>\n",
       "      <td>Southampton</td>\n",
       "      <td>no</td>\n",
       "      <td>False</td>\n",
       "      <td>0.329545</td>\n",
       "    </tr>\n",
       "    <tr>\n",
       "      <th>1</th>\n",
       "      <td>1</td>\n",
       "      <td>1</td>\n",
       "      <td>female</td>\n",
       "      <td>38.0</td>\n",
       "      <td>1</td>\n",
       "      <td>0</td>\n",
       "      <td>71.2833</td>\n",
       "      <td>C</td>\n",
       "      <td>First</td>\n",
       "      <td>woman</td>\n",
       "      <td>False</td>\n",
       "      <td>C</td>\n",
       "      <td>Cherbourg</td>\n",
       "      <td>yes</td>\n",
       "      <td>False</td>\n",
       "      <td>1.875876</td>\n",
       "    </tr>\n",
       "    <tr>\n",
       "      <th>2</th>\n",
       "      <td>1</td>\n",
       "      <td>3</td>\n",
       "      <td>female</td>\n",
       "      <td>26.0</td>\n",
       "      <td>0</td>\n",
       "      <td>0</td>\n",
       "      <td>7.9250</td>\n",
       "      <td>S</td>\n",
       "      <td>Third</td>\n",
       "      <td>woman</td>\n",
       "      <td>False</td>\n",
       "      <td>NaN</td>\n",
       "      <td>Southampton</td>\n",
       "      <td>yes</td>\n",
       "      <td>True</td>\n",
       "      <td>0.304808</td>\n",
       "    </tr>\n",
       "    <tr>\n",
       "      <th>3</th>\n",
       "      <td>1</td>\n",
       "      <td>1</td>\n",
       "      <td>female</td>\n",
       "      <td>35.0</td>\n",
       "      <td>1</td>\n",
       "      <td>0</td>\n",
       "      <td>53.1000</td>\n",
       "      <td>S</td>\n",
       "      <td>First</td>\n",
       "      <td>woman</td>\n",
       "      <td>False</td>\n",
       "      <td>C</td>\n",
       "      <td>Southampton</td>\n",
       "      <td>yes</td>\n",
       "      <td>False</td>\n",
       "      <td>1.517143</td>\n",
       "    </tr>\n",
       "    <tr>\n",
       "      <th>4</th>\n",
       "      <td>0</td>\n",
       "      <td>3</td>\n",
       "      <td>male</td>\n",
       "      <td>35.0</td>\n",
       "      <td>0</td>\n",
       "      <td>0</td>\n",
       "      <td>8.0500</td>\n",
       "      <td>S</td>\n",
       "      <td>Third</td>\n",
       "      <td>man</td>\n",
       "      <td>True</td>\n",
       "      <td>NaN</td>\n",
       "      <td>Southampton</td>\n",
       "      <td>no</td>\n",
       "      <td>True</td>\n",
       "      <td>0.230000</td>\n",
       "    </tr>\n",
       "  </tbody>\n",
       "</table>\n",
       "</div>"
      ],
      "text/plain": [
       "   survived  pclass     sex   age  sibsp  parch     fare embarked  class  \\\n",
       "0         0       3    male  22.0      1      0   7.2500        S  Third   \n",
       "1         1       1  female  38.0      1      0  71.2833        C  First   \n",
       "2         1       3  female  26.0      0      0   7.9250        S  Third   \n",
       "3         1       1  female  35.0      1      0  53.1000        S  First   \n",
       "4         0       3    male  35.0      0      0   8.0500        S  Third   \n",
       "\n",
       "     who  adult_male deck  embark_town alive  alone  fare_per_age  \n",
       "0    man        True  NaN  Southampton    no  False      0.329545  \n",
       "1  woman       False    C    Cherbourg   yes  False      1.875876  \n",
       "2  woman       False  NaN  Southampton   yes   True      0.304808  \n",
       "3  woman       False    C  Southampton   yes  False      1.517143  \n",
       "4    man        True  NaN  Southampton    no   True      0.230000  "
      ]
     },
     "execution_count": 8,
     "metadata": {},
     "output_type": "execute_result"
    }
   ],
   "source": [
    "adults = df[df[\"age\"] >= 18]\n",
    "adults.head()"
   ]
  },
  {
   "cell_type": "code",
   "execution_count": 18,
   "id": "9ca440cb-c266-4c9a-9636-65b7759eb2a0",
   "metadata": {},
   "outputs": [
    {
     "name": "stdout",
     "output_type": "stream",
     "text": [
      "     survived  pclass     sex   age  sibsp  parch      fare embarked  class  \\\n",
      "258         1       1  female  35.0      0      0  512.3292        C  First   \n",
      "737         1       1    male  35.0      0      0  512.3292        C  First   \n",
      "88          1       1  female  23.0      3      2  263.0000        S  First   \n",
      "438         0       1    male  64.0      1      4  263.0000        S  First   \n",
      "341         1       1  female  24.0      3      2  263.0000        S  First   \n",
      "27          0       1    male  19.0      3      2  263.0000        S  First   \n",
      "742         1       1  female  21.0      2      2  262.3750        C  First   \n",
      "311         1       1  female  18.0      2      2  262.3750        C  First   \n",
      "299         1       1  female  50.0      0      1  247.5208        C  First   \n",
      "\n",
      "       who  adult_male deck  embark_town alive  alone  fare_per_age  \n",
      "258  woman       False  NaN    Cherbourg   yes   True     14.637977  \n",
      "737    man        True    B    Cherbourg   yes   True     14.637977  \n",
      "88   woman       False    C  Southampton   yes  False     11.434783  \n",
      "438    man        True    C  Southampton    no  False      4.109375  \n",
      "341  woman       False    C  Southampton   yes  False     10.958333  \n",
      "27     man        True    C  Southampton    no  False     13.842105  \n",
      "742  woman       False    B    Cherbourg   yes  False     12.494048  \n",
      "311  woman       False    B    Cherbourg   yes  False     14.576389  \n",
      "299  woman       False    B    Cherbourg   yes  False      4.950416  \n"
     ]
    }
   ],
   "source": [
    "sorted_df = df.sort_values(\"fare\", ascending=False)\n",
    "sorted_df.head(10)\n",
    "print(sorted_df[:10])"
   ]
  },
  {
   "cell_type": "code",
   "execution_count": 27,
   "id": "58d5ef4a-ae08-40ef-a1ee-73630ef26161",
   "metadata": {},
   "outputs": [
    {
     "data": {
      "text/plain": [
       "survived          0\n",
       "pclass            0\n",
       "sex               0\n",
       "age               0\n",
       "sibsp             0\n",
       "parch             0\n",
       "fare              0\n",
       "embarked          2\n",
       "class             0\n",
       "who               0\n",
       "adult_male        0\n",
       "deck            582\n",
       "embark_town       2\n",
       "alive             0\n",
       "alone             0\n",
       "fare_per_age    106\n",
       "dtype: int64"
      ]
     },
     "execution_count": 27,
     "metadata": {},
     "output_type": "execute_result"
    }
   ],
   "source": [
    "df.isna().sum()"
   ]
  },
  {
   "cell_type": "code",
   "execution_count": 25,
   "id": "0df0a6ce-e1c2-4f95-b9a6-110ff8e69cbf",
   "metadata": {},
   "outputs": [
    {
     "name": "stdout",
     "output_type": "stream",
     "text": [
      "     survived  pclass     sex   age  sibsp  parch     fare embarked  class  \\\n",
      "0           0       3    male  22.0      1      0   7.2500        S  Third   \n",
      "1           1       1  female  38.0      1      0  71.2833        C  First   \n",
      "2           1       3  female  26.0      0      0   7.9250        S  Third   \n",
      "3           1       1  female  35.0      1      0  53.1000        S  First   \n",
      "4           0       3    male  35.0      0      0   8.0500        S  Third   \n",
      "..        ...     ...     ...   ...    ...    ...      ...      ...    ...   \n",
      "885         0       3  female  39.0      0      5  29.1250        Q  Third   \n",
      "887         1       1  female  19.0      0      0  30.0000        S  First   \n",
      "888         0       3  female  28.0      1      2  23.4500        S  Third   \n",
      "889         1       1    male  26.0      0      0  30.0000        C  First   \n",
      "890         0       3    male  32.0      0      0   7.7500        Q  Third   \n",
      "\n",
      "       who  adult_male deck  embark_town alive  alone  fare_per_age  \n",
      "0      man        True  NaN  Southampton    no  False      0.329545  \n",
      "1    woman       False    C    Cherbourg   yes  False      1.875876  \n",
      "2    woman       False  NaN  Southampton   yes   True      0.304808  \n",
      "3    woman       False    C  Southampton   yes  False      1.517143  \n",
      "4      man        True  NaN  Southampton    no   True      0.230000  \n",
      "..     ...         ...  ...          ...   ...    ...           ...  \n",
      "885  woman       False  NaN   Queenstown    no  False      0.746795  \n",
      "887  woman       False    B  Southampton   yes   True      1.578947  \n",
      "888  woman       False  NaN  Southampton    no  False           NaN  \n",
      "889    man        True    C    Cherbourg   yes   True      1.153846  \n",
      "890    man        True  NaN   Queenstown    no   True      0.242188  \n",
      "\n",
      "[784 rows x 16 columns]\n"
     ]
    }
   ],
   "source": [
    "#df[\"age\"].fillna(df[\"age\"].median(), inplace=True)\n",
    "df.fillna({\"age\": df[\"age\"].median()}, inplace=True)\n",
    "df.drop_duplicates(inplace=True)\n",
    "print(df)"
   ]
  },
  {
   "cell_type": "code",
   "execution_count": 26,
   "id": "9bb7a60f-e6dc-4179-bd98-5f76afd084c8",
   "metadata": {},
   "outputs": [
    {
     "data": {
      "text/plain": [
       "survived          0\n",
       "pclass            0\n",
       "sex               0\n",
       "age               0\n",
       "sibsp             0\n",
       "parch             0\n",
       "fare              0\n",
       "embarked          2\n",
       "class             0\n",
       "who               0\n",
       "adult_male        0\n",
       "deck            582\n",
       "embark_town       2\n",
       "alive             0\n",
       "alone             0\n",
       "fare_per_age    106\n",
       "dtype: int64"
      ]
     },
     "execution_count": 26,
     "metadata": {},
     "output_type": "execute_result"
    }
   ],
   "source": [
    "df.isna().sum()"
   ]
  },
  {
   "cell_type": "code",
   "execution_count": 38,
   "id": "0bd329c5-3673-4415-9921-d44c2408ff75",
   "metadata": {},
   "outputs": [],
   "source": [
    "df.fillna({\"embarked\": df[\"embarked\"].mode()[0], \"deck\": df[\"deck\"].mode()[0], \"embark_town\": df[\"embark_town\"].mode()[0], \"fare_per_age\": df[\"fare_per_age\"].mean()}, inplace=True)\n",
    "#df.fillna({\"deck\": df[\"deck\"].mode()}, inplace=True)\n",
    "#df.fillna({\"embark_town\": df[\"embark_town\"].mode()}, inplace=True)"
   ]
  },
  {
   "cell_type": "code",
   "execution_count": 39,
   "id": "25489c81-6165-4103-aaea-0ccb5fc25127",
   "metadata": {},
   "outputs": [
    {
     "data": {
      "text/plain": [
       "survived        0\n",
       "pclass          0\n",
       "sex             0\n",
       "age             0\n",
       "sibsp           0\n",
       "parch           0\n",
       "fare            0\n",
       "embarked        0\n",
       "class           0\n",
       "who             0\n",
       "adult_male      0\n",
       "deck            0\n",
       "embark_town     0\n",
       "alive           0\n",
       "alone           0\n",
       "fare_per_age    0\n",
       "dtype: int64"
      ]
     },
     "execution_count": 39,
     "metadata": {},
     "output_type": "execute_result"
    }
   ],
   "source": [
    "df.isna().sum()"
   ]
  },
  {
   "cell_type": "code",
   "execution_count": 40,
   "id": "3a1cd39d-1531-437f-b9fa-f17a1aff58ba",
   "metadata": {},
   "outputs": [
    {
     "name": "stdout",
     "output_type": "stream",
     "text": [
      "class\n",
      "First     0.630841\n",
      "Second    0.509091\n",
      "Third     0.256790\n",
      "Name: survived, dtype: float64\n"
     ]
    },
    {
     "data": {
      "text/plain": [
       "<Axes: xlabel='class'>"
      ]
     },
     "execution_count": 40,
     "metadata": {},
     "output_type": "execute_result"
    },
    {
     "data": {
      "image/png": "[encoded data removed]",
      "text/plain": [
       "<Figure size 640x480 with 1 Axes>"
      ]
     },
     "metadata": {},
     "output_type": "display_data"
    }
   ],
   "source": [
    "survival_by_class = df.groupby(\"class\")[\"survived\"].mean()\n",
    "print(survival_by_class)\n",
    "survival_by_class.plot(kind=\"bar\")"
   ]
  },
  {
   "cell_type": "code",
   "execution_count": 53,
   "id": "0a36fdd9-e421-468f-86fb-ee1cfa670f68",
   "metadata": {},
   "outputs": [
    {
     "data": {
      "text/plain": [
       "{'survival_rate': np.float64(0.4119897959183674),\n",
       " 'avg_fare_survivors': np.float64(50.07918049535604),\n",
       " 'avg_fare_non_survivors': np.float64(23.944530585683296),\n",
       " 'survival_by_gender': {'female': 0.7406143344709898,\n",
       "  'male': 0.2158859470468432},\n",
       " 'survival_by_age_group': age\n",
       " (0, 10]      4.324127\n",
       " (10, 20]    17.261468\n",
       " (20, 30]    26.286392\n",
       " (30, 40]    35.087838\n",
       " (40, 50]    45.333333\n",
       " (50, 60]    54.892857\n",
       " (60, 70]    63.882353\n",
       " (70, 80]    73.300000\n",
       " Name: age, dtype: float64}"
      ]
     },
     "execution_count": 53,
     "metadata": {},
     "output_type": "execute_result"
    }
   ],
   "source": [
    "def titanic_report(data):\n",
    "    return {\n",
    "        \"survival_rate\": data[\"survived\"].mean(),\n",
    "        \"avg_fare_survivors\": data[data[\"survived\"] == 1][\"fare\"].mean(),\n",
    "        \"avg_fare_non_survivors\": data[data[\"survived\"] == 0][\"fare\"].mean(),\n",
    "        \"survival_by_gender\": data.groupby(\"sex\")[\"survived\"].mean().to_dict(),\n",
    "        \"survival_by_age_group\": data.groupby(pd.cut(data[\"age\"], bins=[0, 10, 20, 30, 40, 50, 60, 70, 80, 90], right=True), observed=True)[\"age\"].mean()\n",
    "    }\n",
    "report = titanic_report(df)\n",
    "report"
   ]
  },
  {
   "cell_type": "code",
   "execution_count": 54,
   "id": "0675c739-a037-4fe2-bd54-000160dc724b",
   "metadata": {},
   "outputs": [],
   "source": [
    "df.to_csv(\"titanic_cleaned.csv\", index=False)"
   ]
  }
 ],
 "metadata": {
  "kernelspec": {
   "display_name": "Python (ai-prep)",
   "language": "python",
   "name": "ai-prep"
  },
  "language_info": {
   "codemirror_mode": {
    "name": "ipython",
    "version": 3
   },
   "file_extension": ".py",
   "mimetype": "text/x-python",
   "name": "python",
   "nbconvert_exporter": "python",
   "pygments_lexer": "ipython3",
   "version": "3.11.13"
  }
 },
 "nbformat": 4,
 "nbformat_minor": 5
}
